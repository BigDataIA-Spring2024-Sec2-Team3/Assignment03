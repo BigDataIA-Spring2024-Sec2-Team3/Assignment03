{
 "cells": [
  {
   "cell_type": "markdown",
   "id": "fcc25487",
   "metadata": {},
   "source": [
    "# Snowflake SQL Alchemy\n",
    "\n",
    "### Uploading the web-scaped and cleaned data using pydantic 'items.csv' into snowflake using Snowflake-SQLAlchemy into our created db"
   ]
  },
  {
   "cell_type": "code",
   "execution_count": null,
   "id": "9e0aff50",
   "metadata": {},
   "outputs": [],
   "source": [
    "pip install python-dotenv"
   ]
  },
  {
   "cell_type": "code",
   "execution_count": null,
   "id": "6ddce348",
   "metadata": {},
   "outputs": [],
   "source": [
    "pip install bcrypt"
   ]
  },
  {
   "cell_type": "code",
   "execution_count": null,
   "id": "f50b084b",
   "metadata": {},
   "outputs": [],
   "source": [
    "pip install snowflake-sqlalchemy"
   ]
  },
  {
   "cell_type": "code",
   "execution_count": 7,
   "id": "458bc532",
   "metadata": {},
   "outputs": [],
   "source": [
    "#!/usr/bin/env python\n",
    "import warnings\n",
    "warnings.filterwarnings(\"ignore\")\n",
    "from dotenv import load_dotenv\n",
    "from sqlalchemy import create_engine\n",
    "import bcrypt\n",
    "import os"
   ]
  },
  {
   "cell_type": "markdown",
   "id": "6d77f827",
   "metadata": {},
   "source": [
    "### Snowflake Testing environment setup & data upload"
   ]
  },
  {
   "cell_type": "code",
   "execution_count": 8,
   "id": "704af137",
   "metadata": {},
   "outputs": [],
   "source": [
    "create_test_stage = \"\"\"CREATE STAGE TEST_URL_STAGING DIRECTORY = ( ENABLE = true );\"\"\""
   ]
  },
  {
   "cell_type": "code",
   "execution_count": 9,
   "id": "fe4ba070",
   "metadata": {},
   "outputs": [],
   "source": [
    "create_test_table = \"\"\"CREATE OR REPLACE TABLE test_cfa_courses (\n",
    "        NameOfTopic STRING,\n",
    "        Title STRING,\n",
    "        Year INTEGER,\n",
    "        Level STRING,\n",
    "        Introduction STRING,\n",
    "        LearningOutcome STRING,\n",
    "        LinkToPDF STRING,\n",
    "        LinkToSummary STRING\n",
    "        );\"\"\""
   ]
  },
  {
   "cell_type": "code",
   "execution_count": 10,
   "id": "807fec9e",
   "metadata": {},
   "outputs": [],
   "source": [
    "upload_to_test_stage = \"\"\"PUT file://..\\data\\Validation_data.csv @PC_DBT_DB.public.TEST_URL_STAGING;\"\"\""
   ]
  },
  {
   "cell_type": "code",
   "execution_count": 11,
   "id": "078a435e",
   "metadata": {},
   "outputs": [],
   "source": [
    "copy_stage_to_test_table = \"\"\"COPY INTO test_cfa_courses\n",
    "  FROM @PC_DBT_DB.public.TEST_URL_STAGING\n",
    "  FILE_FORMAT = (type = csv field_optionally_enclosed_by='\"' skip_header = 1)\n",
    "  PATTERN = 'Validation_data.csv.gz'\n",
    "  ON_ERROR = 'skip_file';\"\"\""
   ]
  },
  {
   "cell_type": "markdown",
   "id": "6be45a2f",
   "metadata": {},
   "source": [
    "### Snowflake Production Environment setup & data upload"
   ]
  },
  {
   "cell_type": "code",
   "execution_count": 12,
   "id": "dd5673d5",
   "metadata": {},
   "outputs": [],
   "source": [
    "create_prod_stage = \"\"\"CREATE STAGE URL_STAGING DIRECTORY = ( ENABLE = true );\"\"\""
   ]
  },
  {
   "cell_type": "code",
   "execution_count": 13,
   "id": "d8164555",
   "metadata": {},
   "outputs": [],
   "source": [
    "create_prod_table_query = \"\"\"CREATE OR REPLACE TABLE cfa_courses (\n",
    "        NameOfTopic STRING,\n",
    "        Title STRING,\n",
    "        Year INTEGER,\n",
    "        Level STRING,\n",
    "        Introduction STRING,\n",
    "        LearningOutcome STRING,\n",
    "        LinkToPDF STRING,\n",
    "        LinkToSummary STRING\n",
    "        );\"\"\""
   ]
  },
  {
   "cell_type": "code",
   "execution_count": 14,
   "id": "f24f8c53",
   "metadata": {},
   "outputs": [],
   "source": [
    "upload_to_prod_stage = \"\"\"PUT file://..\\data\\Validation_data.csv @PC_DBT_DB.public.URL_STAGING;\"\"\""
   ]
  },
  {
   "cell_type": "code",
   "execution_count": 15,
   "id": "a7a0f1e7",
   "metadata": {},
   "outputs": [],
   "source": [
    "copy_stage_to_prod_table = \"\"\"COPY INTO cfa_courses\n",
    "  FROM @PC_DBT_DB.public.URL_STAGING\n",
    "  FILE_FORMAT = (type = csv field_optionally_enclosed_by='\"' skip_header = 1)\n",
    "  PATTERN = 'Validation_data.csv.gz'\n",
    "  ON_ERROR = 'skip_file';\"\"\""
   ]
  },
  {
   "cell_type": "code",
   "execution_count": 16,
   "id": "67bbf02e",
   "metadata": {},
   "outputs": [
    {
     "name": "stdout",
     "output_type": "stream",
     "text": [
      "Done\n"
     ]
    }
   ],
   "source": [
    "load_dotenv()\n",
    "\n",
    "u=os.getenv(\"SNOWFLAKE_USER\")\n",
    "p=os.getenv(\"SNOWFLAKE_PASS\")\n",
    "ai=os.getenv(\"SNOWFLAKE_ACCOUNTID\")\n",
    "\n",
    "\n",
    "engine = create_engine(\n",
    "    'snowflake://{user}:{password}@{account_identifier}/'.format(\n",
    "        user=u,\n",
    "        password=p,\n",
    "        account_identifier=ai,\n",
    "    )\n",
    ")\n",
    "\n",
    "\n",
    "\n",
    "try:\n",
    "    connection = engine.connect()\n",
    "    connection.execute(\"USE DATABASE PC_DBT_DB\")\n",
    "    connection.execute(\"USE WAREHOUSE PC_DBT_WH\")\n",
    "    \n",
    "    results = connection.execute(create_test_stage)\n",
    "    results = connection.execute(create_test_table)\n",
    "    results = connection.execute(upload_to_test_stage)\n",
    "    results = connection.execute(copy_stage_to_test_table)\n",
    "    \n",
    "    results = connection.execute(create_prod_stage)\n",
    "    results = connection.execute(create_prod_table_query)\n",
    "    results = connection.execute(upload_to_prod_stage)\n",
    "    results = connection.execute(copy_stage_to_prod_table)\n",
    "\n",
    "finally:\n",
    "    print(\"Done\")\n",
    "    connection.close()\n",
    "    engine.dispose()"
   ]
  },
  {
   "cell_type": "code",
   "execution_count": null,
   "id": "93384be1",
   "metadata": {},
   "outputs": [],
   "source": []
  }
 ],
 "metadata": {
  "kernelspec": {
   "display_name": "Python 3 (ipykernel)",
   "language": "python",
   "name": "python3"
  },
  "language_info": {
   "codemirror_mode": {
    "name": "ipython",
    "version": 3
   },
   "file_extension": ".py",
   "mimetype": "text/x-python",
   "name": "python",
   "nbconvert_exporter": "python",
   "pygments_lexer": "ipython3",
   "version": "3.9.13"
  }
 },
 "nbformat": 4,
 "nbformat_minor": 5
}
