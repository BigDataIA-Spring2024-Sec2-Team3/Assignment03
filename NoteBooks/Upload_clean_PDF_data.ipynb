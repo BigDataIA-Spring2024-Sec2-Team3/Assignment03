{
 "cells": [
  {
   "cell_type": "markdown",
   "id": "c9af0924",
   "metadata": {},
   "source": [
    "# Snowflake SQL Alchemy\n",
    "\n",
    "### Uploading the web-scaped and cleaned data using pydantic 'items.csv', pdf metadata and pdf contents into snowflake using Snowflake-SQLAlchemy into our created db"
   ]
  },
  {
   "cell_type": "code",
   "execution_count": null,
   "id": "36f28294",
   "metadata": {},
   "outputs": [],
   "source": [
    "pip install python-dotenv"
   ]
  },
  {
   "cell_type": "code",
   "execution_count": null,
   "id": "6b8821d4",
   "metadata": {},
   "outputs": [],
   "source": [
    "pip install bcrypt"
   ]
  },
  {
   "cell_type": "code",
   "execution_count": null,
   "id": "7623df5c",
   "metadata": {},
   "outputs": [],
   "source": [
    "pip install snowflake-sqlalchemy"
   ]
  },
  {
   "cell_type": "code",
   "execution_count": 1,
   "id": "8b6096f8",
   "metadata": {},
   "outputs": [],
   "source": [
    "#!/usr/bin/env python\n",
    "import warnings\n",
    "warnings.filterwarnings(\"ignore\")\n",
    "from dotenv import load_dotenv\n",
    "from sqlalchemy import create_engine\n",
    "import bcrypt\n",
    "import os"
   ]
  },
  {
   "cell_type": "markdown",
   "id": "81c70a38",
   "metadata": {},
   "source": [
    "### Snowflake Testing environment setup & data upload"
   ]
  },
  {
   "cell_type": "code",
   "execution_count": null,
   "id": "ae6e8ae5",
   "metadata": {},
   "outputs": [],
   "source": [
    "create_test_stage = \"\"\"CREATE STAGE TEST_URL_STAGING DIRECTORY = ( ENABLE = true );\"\"\""
   ]
  },
  {
   "cell_type": "code",
   "execution_count": 2,
   "id": "3171e287",
   "metadata": {},
   "outputs": [],
   "source": [
    "create_test_table = \"\"\"CREATE OR REPLACE TABLE test_cfa_courses (\n",
    "        NameOfTopic STRING,\n",
    "        Title STRING,\n",
    "        Year INTEGER,\n",
    "        Level STRING,\n",
    "        Introduction STRING,\n",
    "        LearningOutcome STRING,\n",
    "        LinkToPDF STRING,\n",
    "        LinkToSummary STRING\n",
    "        );\"\"\""
   ]
  },
  {
   "cell_type": "code",
   "execution_count": 4,
   "id": "01939d00",
   "metadata": {},
   "outputs": [],
   "source": [
    "upload_to_test_stage = \"\"\"PUT file://..\\data\\Validation_data.csv @PC_DBT_DB.public.TEST_URL_STAGING;\"\"\""
   ]
  },
  {
   "cell_type": "code",
   "execution_count": 5,
   "id": "377279fd",
   "metadata": {},
   "outputs": [],
   "source": [
    "copy_stage_to_test_table = \"\"\"COPY INTO test_cfa_courses\n",
    "  FROM @PC_DBT_DB.public.TEST_URL_STAGING\n",
    "  FILE_FORMAT = (type = csv field_optionally_enclosed_by='\"' skip_header = 1)\n",
    "  PATTERN = 'Validation_data.csv.gz'\n",
    "  ON_ERROR = 'skip_file';\"\"\""
   ]
  },
  {
   "cell_type": "markdown",
   "id": "83273636",
   "metadata": {},
   "source": [
    "### Snowflake Production Environment setup & data upload"
   ]
  },
  {
   "cell_type": "code",
   "execution_count": null,
   "id": "dd1503da",
   "metadata": {},
   "outputs": [],
   "source": [
    "create_prod_stage = \"\"\"CREATE STAGE URL_STAGING DIRECTORY = ( ENABLE = true );\"\"\""
   ]
  },
  {
   "cell_type": "code",
   "execution_count": null,
   "id": "6b847bcb",
   "metadata": {},
   "outputs": [],
   "source": [
    "create_prod_table_query = \"\"\"CREATE OR REPLACE TABLE cfa_courses (\n",
    "        NameOfTopic STRING,\n",
    "        Title STRING,\n",
    "        Year INTEGER,\n",
    "        Level STRING,\n",
    "        Introduction STRING,\n",
    "        LearningOutcome STRING,\n",
    "        LinkToPDF STRING,\n",
    "        LinkToSummary STRING\n",
    "        );\"\"\""
   ]
  },
  {
   "cell_type": "code",
   "execution_count": null,
   "id": "82e17498",
   "metadata": {},
   "outputs": [],
   "source": [
    "upload_to_prod_stage = \"\"\"PUT file://..\\data\\Validation_data.csv @PC_DBT_DB.public.URL_STAGING;\"\"\""
   ]
  },
  {
   "cell_type": "code",
   "execution_count": null,
   "id": "ce620de7",
   "metadata": {},
   "outputs": [],
   "source": [
    "copy_stage_to_prod_table = \"\"\"COPY INTO cfa_courses\n",
    "  FROM @PC_DBT_DB.public.URL_STAGING\n",
    "  FILE_FORMAT = (type = csv field_optionally_enclosed_by='\"' skip_header = 1)\n",
    "  PATTERN = 'Validation_data.csv.gz'\n",
    "  ON_ERROR = 'skip_file';\"\"\""
   ]
  },
  {
   "cell_type": "code",
   "execution_count": 6,
   "id": "3bbd9172",
   "metadata": {},
   "outputs": [
    {
     "name": "stdout",
     "output_type": "stream",
     "text": [
      "Done\n"
     ]
    }
   ],
   "source": [
    "load_dotenv()\n",
    "\n",
    "u=os.getenv(\"SNOWFLAKE_USER\")\n",
    "p=os.getenv(\"SNOWFLAKE_PASS\")\n",
    "ai=os.getenv(\"SNOWFLAKE_ACCOUNTID\")\n",
    "\n",
    "\n",
    "engine = create_engine(\n",
    "    'snowflake://{user}:{password}@{account_identifier}/'.format(\n",
    "        user=u,\n",
    "        password=p,\n",
    "        account_identifier=ai,\n",
    "    )\n",
    ")\n",
    "\n",
    "\n",
    "\n",
    "try:\n",
    "    connection = engine.connect()\n",
    "    connection.execute(\"USE DATABASE PC_DBT_DB\")\n",
    "    connection.execute(\"USE WAREHOUSE PC_DBT_WH\")\n",
    "    results = connection.execute(create_table_query)\n",
    "    results = connection.execute(create_stage)\n",
    "    results = connection.execute(upload_to_stage)\n",
    "    results = connection.execute(copy_stage_to_table)\n",
    "\n",
    "finally:\n",
    "    print(\"Done\")\n",
    "    connection.close()\n",
    "    engine.dispose()"
   ]
  },
  {
   "cell_type": "code",
   "execution_count": null,
   "id": "783f18a0",
   "metadata": {},
   "outputs": [],
   "source": []
  }
 ],
 "metadata": {
  "kernelspec": {
   "display_name": "Python 3 (ipykernel)",
   "language": "python",
   "name": "python3"
  },
  "language_info": {
   "codemirror_mode": {
    "name": "ipython",
    "version": 3
   },
   "file_extension": ".py",
   "mimetype": "text/x-python",
   "name": "python",
   "nbconvert_exporter": "python",
   "pygments_lexer": "ipython3",
   "version": "3.9.13"
  }
 },
 "nbformat": 4,
 "nbformat_minor": 5
}
